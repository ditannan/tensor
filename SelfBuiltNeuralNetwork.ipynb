{
 "cells": [
  {
   "cell_type": "markdown",
   "metadata": {},
   "source": [
    "# 使用Python制作神经网络\n",
    "\n",
    "## 框架\n",
    "- 初始化函数:设定输入层节点数、隐藏层节点数、输出层节点数;\n",
    "- 训练网络:正向传播信号、反向传播误差、优化权重;\n",
    "- 获得输出"
   ]
  },
  {
   "cell_type": "code",
   "execution_count": 1,
   "metadata": {},
   "outputs": [],
   "source": [
    "import numpy as np\n",
    "import scipy.special"
   ]
  },
  {
   "cell_type": "code",
   "execution_count": 5,
   "metadata": {},
   "outputs": [],
   "source": [
    "# 定义sigmoid函数\n",
    "def my_sigmoid(x):\n",
    "    return 1 / (1 + np.exp(-x))\n",
    "\n",
    "def sigmoid(x):\n",
    "    return scipy.special.expit(x)"
   ]
  },
  {
   "cell_type": "code",
   "execution_count": 41,
   "metadata": {},
   "outputs": [],
   "source": [
    "class neuralNetwork:\n",
    "    \"\"\"自定义3层神经网络\"\"\"\n",
    "    \n",
    "    # 初始化\n",
    "    def __init__(self, inputnodes, hiddennodes, outputnodes, learningrate):\n",
    "        self.inodes = inputnodes\n",
    "        self.hnodes = hiddennodes\n",
    "        self.onodes = outputnodes\n",
    "        \n",
    "        # 学习率\n",
    "        self.lr = learningrate\n",
    "        \n",
    "        # 激活函数\n",
    "        self.activation_function = lambda x:my_sigmoid(x)\n",
    "        \n",
    "        # 初始化权重\n",
    "        self.wih = np.random.rand(self.hnodes, self.inodes) - 0.5\n",
    "        self.who = np.random.rand(self.onodes, self.hnodes) - 0.5\n",
    "        \n",
    "        pass\n",
    "    \n",
    "    # 训练网络\n",
    "    def train(self, inputs_list, targets_list):\n",
    "        # 将输入列表和目标值转化为列为1的矩阵\n",
    "        inputs = np.array(inputs_list, ndmin=2).T\n",
    "        targets = np.array(targets_list, ndmin=2).T\n",
    "        \n",
    "        # 隐藏层输入\n",
    "        hidden_inputs = np.dot(self.wih, inputs)\n",
    "        # 隐藏层输出\n",
    "        hidden_outputs = self.activation_function(hidden_inputs)\n",
    "        # 输出层的输入\n",
    "        final_inputs = np.dot(self.who, hidden_outputs)\n",
    "        # 输出层的输出\n",
    "        final_outputs = self.activation_function(final_inputs)\n",
    "        \n",
    "        # 输出层误差\n",
    "        output_errors = targets - final_outputs\n",
    "        # 更新who\n",
    "        self.who += self.lr * np.dot((output_errors * final_outputs * (1 - final_outputs)), np.transpose(hidden_outputs))\n",
    "        \n",
    "        # 隐藏层误差\n",
    "        hidden_errors = np.dot(self.who.T, output_errors)\n",
    "        # 更新wih\n",
    "        self.wih += self.lr * np.dot((hidden_errors * hidden_outputs * (1 - hidden_outputs)), np.transpose(inputs))\n",
    "        \n",
    "        pass\n",
    "    \n",
    "    # 获得输出\n",
    "    def query(self, inputs_list):\n",
    "        # 将输入列表转为列为1的矩阵\n",
    "        inputs = np.array(inputs_list, ndmin = 2).T\n",
    "        # 隐藏层输入\n",
    "        hidden_inputs = np.dot(self.wih, inputs)\n",
    "        # 隐藏层输出\n",
    "        hidden_outputs = self.activation_function(hidden_inputs)\n",
    "        # 输出层的输入\n",
    "        final_inputs = np.dot(self.who, hidden_outputs)\n",
    "        # 输出层的输出\n",
    "        final_outputs = self.activation_function(final_inputs)\n",
    "        \n",
    "        return final_outputs\n",
    "    \n",
    "        pass"
   ]
  },
  {
   "cell_type": "code",
   "execution_count": 42,
   "metadata": {},
   "outputs": [],
   "source": [
    "inputnodes = 2\n",
    "hiddennodes = 3\n",
    "outputnodes = 3\n",
    "learningrate = 0.3\n",
    "\n",
    "my_neural = neuralNetwork(inputnodes, hiddennodes, outputnodes, learningrate)"
   ]
  }
 ],
 "metadata": {
  "kernelspec": {
   "display_name": "Python 3",
   "language": "python",
   "name": "python3"
  },
  "language_info": {
   "codemirror_mode": {
    "name": "ipython",
    "version": 3
   },
   "file_extension": ".py",
   "mimetype": "text/x-python",
   "name": "python",
   "nbconvert_exporter": "python",
   "pygments_lexer": "ipython3",
   "version": "3.6.4"
  }
 },
 "nbformat": 4,
 "nbformat_minor": 2
}
