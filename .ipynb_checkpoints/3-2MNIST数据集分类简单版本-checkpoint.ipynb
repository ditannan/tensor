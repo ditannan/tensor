{
 "cells": [
  {
   "cell_type": "code",
   "execution_count": 2,
   "metadata": {},
   "outputs": [
    {
     "name": "stderr",
     "output_type": "stream",
     "text": [
      "D:\\ProgramData\\Anaconda3\\envs\\py35\\lib\\site-packages\\h5py\\__init__.py:36: FutureWarning: Conversion of the second argument of issubdtype from `float` to `np.floating` is deprecated. In future, it will be treated as `np.float64 == np.dtype(float).type`.\n",
      "  from ._conv import register_converters as _register_converters\n"
     ]
    }
   ],
   "source": [
    "import tensorflow as tf\n",
    "from tensorflow.examples.tutorials.mnist import input_data"
   ]
  },
  {
   "cell_type": "code",
   "execution_count": 3,
   "metadata": {},
   "outputs": [
    {
     "name": "stdout",
     "output_type": "stream",
     "text": [
      "Extracting MNIST_data\\train-images-idx3-ubyte.gz\n",
      "Extracting MNIST_data\\train-labels-idx1-ubyte.gz\n",
      "Extracting MNIST_data\\t10k-images-idx3-ubyte.gz\n",
      "Extracting MNIST_data\\t10k-labels-idx1-ubyte.gz\n",
      "Iter 0, Testing Accuracy: 0.8306\n",
      "Iter 1, Testing Accuracy: 0.8708\n",
      "Iter 2, Testing Accuracy: 0.8813\n",
      "Iter 3, Testing Accuracy: 0.8874\n",
      "Iter 4, Testing Accuracy: 0.8944\n",
      "Iter 5, Testing Accuracy: 0.8971\n",
      "Iter 6, Testing Accuracy: 0.9003\n",
      "Iter 7, Testing Accuracy: 0.9018\n",
      "Iter 8, Testing Accuracy: 0.9035\n",
      "Iter 9, Testing Accuracy: 0.9051\n",
      "Iter 10, Testing Accuracy: 0.906\n",
      "Iter 11, Testing Accuracy: 0.9071\n",
      "Iter 12, Testing Accuracy: 0.9088\n",
      "Iter 13, Testing Accuracy: 0.9096\n",
      "Iter 14, Testing Accuracy: 0.91\n",
      "Iter 15, Testing Accuracy: 0.9114\n",
      "Iter 16, Testing Accuracy: 0.9119\n",
      "Iter 17, Testing Accuracy: 0.9125\n",
      "Iter 18, Testing Accuracy: 0.9128\n",
      "Iter 19, Testing Accuracy: 0.9137\n",
      "Iter 20, Testing Accuracy: 0.9141\n"
     ]
    }
   ],
   "source": [
    "# 载入数据\n",
    "mnist = input_data.read_data_sets('MNIST_data', one_hot = True)\n",
    "\n",
    "# 每个批次的大小\n",
    "batch_size = 100\n",
    "# 计算一共有多少个批次\n",
    "n_batch = mnist.train.num_examples // batch_size\n",
    "\n",
    "# 定义两个placeholder\n",
    "x = tf.placeholder(tf.float32, [None, 784])\n",
    "y = tf.placeholder(tf.float32, [None, 10])\n",
    "\n",
    "# 创建一个简单的神经网络\n",
    "\n",
    "W_L1 = tf.Variable(tf.zeros([784, 10]))\n",
    "b_L1 = tf.Variable(tf.zeros([10]))\n",
    "Wx_plus_b_L1 = tf.matmul(x, W_L1) + b_L1\n",
    "L1 = tf.nn.softmax(Wx_plus_b_L1)\n",
    "\n",
    "prediction = tf.nn.softmax(Wx_plus_b_L1)\n",
    "\n",
    "\n",
    "# 二次代价函数\n",
    "loss = tf.reduce_mean(tf.square(y - prediction))\n",
    "\n",
    "# 使用梯度下降法\n",
    "train_step = tf.train.GradientDescentOptimizer(0.2).minimize(loss)\n",
    "\n",
    "# 初始化变量\n",
    "init = tf.global_variables_initializer()\n",
    "\n",
    "# 结果存放在一个布尔型列表中\n",
    "## argmax返回一堆张量中最大的值所在的位置\n",
    "correct_prediction = tf.equal(tf.argmax(y, 1), tf.argmax(prediction, 1))\n",
    "# 求准确率\n",
    "accuracy = tf.reduce_mean(tf.cast(correct_prediction, tf.float32))\n",
    "\n",
    "with tf.Session() as sess:\n",
    "    sess.run(init)\n",
    "    for epoch in range(21):\n",
    "        for batch in range(n_batch):\n",
    "            batch_xs, batch_ys = mnist.train.next_batch(batch_size)\n",
    "            sess.run(train_step, feed_dict = {x : batch_xs, y : batch_ys})\n",
    "            \n",
    "        acc = sess.run(accuracy, feed_dict = {x : mnist.test.images, y : mnist.test.labels})\n",
    "        print('Iter ' + str(epoch) + ', Testing Accuracy: ' + str(acc))"
   ]
  },
  {
   "cell_type": "code",
   "execution_count": null,
   "metadata": {},
   "outputs": [],
   "source": [
    "# 二次代价函数结果\n",
    "Iter 0, Testing Accuracy: 0.8702\n",
    "Iter 1, Testing Accuracy: 0.8882\n",
    "Iter 2, Testing Accuracy: 0.8954\n",
    "Iter 3, Testing Accuracy: 0.9013\n",
    "Iter 4, Testing Accuracy: 0.9058\n",
    "Iter 5, Testing Accuracy: 0.9074\n",
    "Iter 6, Testing Accuracy: 0.9088\n",
    "Iter 7, Testing Accuracy: 0.9103\n",
    "Iter 8, Testing Accuracy: 0.9121\n",
    "Iter 9, Testing Accuracy: 0.914\n",
    "Iter 10, Testing Accuracy: 0.9137\n",
    "Iter 11, Testing Accuracy: 0.9161\n",
    "Iter 12, Testing Accuracy: 0.9159\n",
    "Iter 13, Testing Accuracy: 0.9178\n",
    "Iter 14, Testing Accuracy: 0.918\n",
    "Iter 15, Testing Accuracy: 0.9182\n",
    "Iter 16, Testing Accuracy: 0.9189\n",
    "Iter 17, Testing Accuracy: 0.9187\n",
    "Iter 18, Testing Accuracy: 0.9186\n",
    "Iter 19, Testing Accuracy: 0.9192\n",
    "Iter 20, Testing Accuracy: 0.9207\n",
    "    \n",
    "# 交叉熵\n",
    "Iter 0, Testing Accuracy: 0.8391\n",
    "Iter 1, Testing Accuracy: 0.8946\n",
    "Iter 2, Testing Accuracy: 0.9017\n",
    "Iter 3, Testing Accuracy: 0.9065\n",
    "Iter 4, Testing Accuracy: 0.9088\n",
    "Iter 5, Testing Accuracy: 0.91\n",
    "Iter 6, Testing Accuracy: 0.9119\n",
    "Iter 7, Testing Accuracy: 0.9129\n",
    "Iter 8, Testing Accuracy: 0.9154\n",
    "Iter 9, Testing Accuracy: 0.9157\n",
    "Iter 10, Testing Accuracy: 0.9166\n",
    "Iter 11, Testing Accuracy: 0.9188\n",
    "Iter 12, Testing Accuracy: 0.9199\n",
    "Iter 13, Testing Accuracy: 0.9192\n",
    "Iter 14, Testing Accuracy: 0.9196\n",
    "Iter 15, Testing Accuracy: 0.9191\n",
    "Iter 16, Testing Accuracy: 0.9212\n",
    "Iter 17, Testing Accuracy: 0.921\n",
    "Iter 18, Testing Accuracy: 0.9207\n",
    "Iter 19, Testing Accuracy: 0.9222\n",
    "Iter 20, Testing Accuracy: 0.9214"
   ]
  }
 ],
 "metadata": {
  "kernelspec": {
   "display_name": "Python 3",
   "language": "python",
   "name": "python3"
  },
  "language_info": {
   "codemirror_mode": {
    "name": "ipython",
    "version": 3
   },
   "file_extension": ".py",
   "mimetype": "text/x-python",
   "name": "python",
   "nbconvert_exporter": "python",
   "pygments_lexer": "ipython3",
   "version": "3.5.4"
  }
 },
 "nbformat": 4,
 "nbformat_minor": 2
}
