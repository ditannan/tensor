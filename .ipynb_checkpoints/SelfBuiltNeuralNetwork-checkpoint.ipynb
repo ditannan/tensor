{
 "cells": [
  {
   "cell_type": "markdown",
   "metadata": {},
   "source": [
    "# 使用Python制作神经网络\n",
    "\n",
    "## 框架\n",
    "- 初始化函数:设定输入层节点数、隐藏层节点数、输出层节点数;\n",
    "- 训练网络:正向传播信号、反向传播误差、优化权重;\n",
    "- 获得输出"
   ]
  },
  {
   "cell_type": "code",
   "execution_count": 1,
   "metadata": {},
   "outputs": [],
   "source": [
    "import numpy as np\n",
    "import scipy.special"
   ]
  },
  {
   "cell_type": "code",
   "execution_count": 5,
   "metadata": {},
   "outputs": [],
   "source": [
    "# 定义sigmoid函数\n",
    "def my_sigmoid(x):\n",
    "    return 1 / (1 + np.exp(-x))\n",
    "\n",
    "def sigmoid(x):\n",
    "    return scipy.special.expit(x)"
   ]
  },
  {
   "cell_type": "code",
   "execution_count": 41,
   "metadata": {},
   "outputs": [],
   "source": [
    "class neuralNetwork:\n",
    "    \"\"\"自定义3层神经网络\"\"\"\n",
    "    \n",
    "    # 初始化\n",
    "    def __init__(self, inputnodes, hiddennodes, outputnodes, learningrate):\n",
    "        self.inodes = inputnodes\n",
    "        self.hnodes = hiddennodes\n",
    "        self.onodes = outputnodes\n",
    "        \n",
    "        # 学习率\n",
    "        self.lr = learningrate\n",
    "        \n",
    "        # 激活函数\n",
    "        self.activation_function = lambda x:my_sigmoid(x)\n",
    "        \n",
    "        # 初始化权重\n",
    "        self.wih = np.random.normal(0, pow(self.hnodes, -0.5), (self.hnodes, self.inodes))\n",
    "        self.who = np.random.normal(0, pow(self.onodes, -0.5), (self.onodes, self.hnodes))\n",
    "        \n",
    "        pass\n",
    "    \n",
    "    # 训练网络\n",
    "    def train(self, inputs_list, targets_list):\n",
    "        # 将输入列表和目标值转化为列为1的矩阵\n",
    "        inputs = np.array(inputs_list, ndmin=2).T\n",
    "        targets = np.array(targets_list, ndmin=2).T\n",
    "        \n",
    "        # 隐藏层输入\n",
    "        hidden_inputs = np.dot(self.wih, inputs)\n",
    "        # 隐藏层输出\n",
    "        hidden_outputs = self.activation_function(hidden_inputs)\n",
    "        # 输出层的输入\n",
    "        final_inputs = np.dot(self.who, hidden_outputs)\n",
    "        # 输出层的输出\n",
    "        final_outputs = self.activation_function(final_inputs)\n",
    "        \n",
    "        # 输出层误差\n",
    "        output_errors = targets - final_outputs\n",
    "        # 更新who\n",
    "        self.who += self.lr * np.dot((output_errors * final_outputs * (1 - final_outputs)), np.transpose(hidden_outputs))\n",
    "        \n",
    "        # 隐藏层误差\n",
    "        hidden_errors = np.dot(self.who.T, output_errors)\n",
    "        # 更新wih\n",
    "        self.wih += self.lr * np.dot((hidden_errors * hidden_outputs * (1 - hidden_outputs)), np.transpose(inputs))\n",
    "        \n",
    "        pass\n",
    "    \n",
    "    # 获得输出\n",
    "    def query(self, inputs_list):\n",
    "        # 将输入列表转为列为1的矩阵\n",
    "        inputs = np.array(inputs_list, ndmin = 2).T\n",
    "        # 隐藏层输入\n",
    "        hidden_inputs = np.dot(self.wih, inputs)\n",
    "        # 隐藏层输出\n",
    "        hidden_outputs = self.activation_function(hidden_inputs)\n",
    "        # 输出层的输入\n",
    "        final_inputs = np.dot(self.who, hidden_outputs)\n",
    "        # 输出层的输出\n",
    "        final_outputs = self.activation_function(final_inputs)\n",
    "        \n",
    "        return final_outputs\n",
    "    \n",
    "        pass"
   ]
  },
  {
   "cell_type": "code",
   "execution_count": 57,
   "metadata": {},
   "outputs": [],
   "source": [
    "# 参数设置\n",
    "inputnodes = 784\n",
    "hiddennodes = 100\n",
    "outputnodes = 10\n",
    "learningrate = 0.3\n",
    "\n",
    "# 实例,初始化\n",
    "my_neural = neuralNetwork(inputnodes, hiddennodes, outputnodes, learningrate)"
   ]
  },
  {
   "cell_type": "code",
   "execution_count": 44,
   "metadata": {},
   "outputs": [],
   "source": [
    "# 读取训练集mnist_train_100.csv数据\n",
    "with open('mnist_train_100.csv', 'r') as file:\n",
    "    df_train = file.readlines()"
   ]
  },
  {
   "cell_type": "code",
   "execution_count": 46,
   "metadata": {},
   "outputs": [
    {
     "data": {
      "text/plain": [
       "100"
      ]
     },
     "execution_count": 46,
     "metadata": {},
     "output_type": "execute_result"
    }
   ],
   "source": [
    "len(df_train)"
   ]
  },
  {
   "cell_type": "code",
   "execution_count": 58,
   "metadata": {},
   "outputs": [],
   "source": [
    "# 训练\n",
    "for record in df_train:\n",
    "    # 以逗号进行分割\n",
    "    all_value = record.split(',')\n",
    "    # 将第一个数字提出作为目标值\n",
    "    targets = np.zeros(outputnodes) + 0.01\n",
    "    targets[int(record[0])] = 0.99\n",
    "    # 标化输入\n",
    "    inputs = np.asfarray(all_value[1:]) / 255 * 0.99 + 0.01\n",
    "    \n",
    "    # 训练\n",
    "    my_neural.train(inputs, targets)"
   ]
  },
  {
   "cell_type": "code",
   "execution_count": 59,
   "metadata": {},
   "outputs": [],
   "source": [
    "# 读取测试集数据\n",
    "with open('mnist_test_10.csv', 'r') as file:\n",
    "    df_test = file.readlines()"
   ]
  },
  {
   "cell_type": "code",
   "execution_count": 64,
   "metadata": {},
   "outputs": [
    {
     "name": "stdout",
     "output_type": "stream",
     "text": [
      "预测值为7, 实际值为7\n",
      "预测值为3, 实际值为2\n",
      "预测值为1, 实际值为1\n",
      "预测值为0, 实际值为0\n",
      "预测值为4, 实际值为4\n",
      "预测值为1, 实际值为1\n",
      "预测值为4, 实际值为4\n",
      "预测值为4, 实际值为9\n",
      "预测值为4, 实际值为5\n",
      "预测值为7, 实际值为9\n"
     ]
    },
    {
     "data": {
      "text/plain": [
       "[1, 0, 1, 1, 1, 1, 1, 0, 0, 0]"
      ]
     },
     "execution_count": 64,
     "metadata": {},
     "output_type": "execute_result"
    }
   ],
   "source": [
    "# 获取测试集输出\n",
    "score_card = []\n",
    "for record in df_test:\n",
    "    inputs = np.asfarray(record.split(',')[1:]) / 255 * 0.99 + 0.01\n",
    "    predicted_output = np.argmax(my_neural.query(inputs))\n",
    "    print('预测值为%d, 实际值为%d' % (predicted_output, int(record[0])))\n",
    "    if predicted_output == int(record[0]):\n",
    "        score_card.append(1)\n",
    "    else:\n",
    "        score_card.append(0)\n",
    "\n",
    "# 输出正确情况\n",
    "score_card"
   ]
  }
 ],
 "metadata": {
  "kernelspec": {
   "display_name": "Python 3",
   "language": "python",
   "name": "python3"
  },
  "language_info": {
   "codemirror_mode": {
    "name": "ipython",
    "version": 3
   },
   "file_extension": ".py",
   "mimetype": "text/x-python",
   "name": "python",
   "nbconvert_exporter": "python",
   "pygments_lexer": "ipython3",
   "version": "3.6.4"
  }
 },
 "nbformat": 4,
 "nbformat_minor": 2
}
